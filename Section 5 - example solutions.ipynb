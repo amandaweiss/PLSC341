{
  "nbformat": 4,
  "nbformat_minor": 0,
  "metadata": {
    "colab": {
      "provenance": []
    },
    "kernelspec": {
      "name": "ir",
      "display_name": "R"
    },
    "language_info": {
      "name": "R"
    }
  },
  "cells": [
    {
      "cell_type": "markdown",
      "source": [
        "https://towardsdatascience.com/how-to-use-r-in-google-colab-b6e02d736497\n",
        "\n",
        "https://colab.research.google.com/#create=true&language=r"
      ],
      "metadata": {
        "id": "nrcKotuDXdsI"
      }
    },
    {
      "cell_type": "code",
      "execution_count": 1,
      "metadata": {
        "colab": {
          "base_uri": "https://localhost:8080/",
          "height": 121
        },
        "id": "dWWKtRjJXWR8",
        "outputId": "37dd4cb4-2919-4e4b-98ea-57f4a6288266"
      },
      "outputs": [
        {
          "output_type": "display_data",
          "data": {
            "text/html": [
              "2.8"
            ],
            "text/markdown": "2.8",
            "text/latex": "2.8",
            "text/plain": [
              "[1] 2.8"
            ]
          },
          "metadata": {}
        },
        {
          "output_type": "display_data",
          "data": {
            "text/html": [
              "2.8"
            ],
            "text/markdown": "2.8",
            "text/latex": "2.8",
            "text/plain": [
              "[1] 2.8"
            ]
          },
          "metadata": {}
        },
        {
          "output_type": "display_data",
          "data": {
            "text/html": [
              "2.79899733333333"
            ],
            "text/markdown": "2.79899733333333",
            "text/latex": "2.79899733333333",
            "text/plain": [
              "[1] 2.798997"
            ]
          },
          "metadata": {}
        },
        {
          "output_type": "display_data",
          "data": {
            "text/html": [
              "0.00100266666666649"
            ],
            "text/markdown": "0.00100266666666649",
            "text/latex": "0.00100266666666649",
            "text/plain": [
              "[1] 0.001002667"
            ]
          },
          "metadata": {}
        },
        {
          "output_type": "display_data",
          "data": {
            "text/html": [
              "2.94138807351772"
            ],
            "text/markdown": "2.94138807351772",
            "text/latex": "2.94138807351772",
            "text/plain": [
              "[1] 2.941388"
            ]
          },
          "metadata": {}
        },
        {
          "output_type": "display_data",
          "data": {
            "text/html": [
              "-0.141388073517722"
            ],
            "text/markdown": "-0.141388073517722",
            "text/latex": "-0.141388073517722",
            "text/plain": [
              "[1] -0.1413881"
            ]
          },
          "metadata": {}
        }
      ],
      "source": [
        "# ------------------------------ Exercise 1 ------------------------------------\n",
        "# For this exercise, you should rewrite the code from Prof. Aronow's ht-sim.R\n",
        "# example file to include a calculation for the Hajek estimator, as well as the\n",
        "# Horvitz-Thompson estimator. I have copied over the code for you; your task is\n",
        "# just to modify it and consider whether the result is unbiased. So you're going\n",
        "# to want to have 6 items: the original mean, the mean of the simulated\n",
        "# Horvitz-Thompson estimates, the bias of the Horvitz-Thompson estimator in this\n",
        "# case, the mean of the simulated Hajek estimates, and the bias of the Hajek\n",
        "# estimate.\n",
        "\n",
        "\n",
        "set.seed(123)\n",
        "\n",
        "# Simulation for HT estimator\n",
        "\n",
        "N <- 5\n",
        "y <- c(4, 3, 2, 1, 4)\n",
        "mean(y) # mu\n",
        "\n",
        "# Sampling design:\n",
        "drawsample <- function() {\n",
        "  R <- rep(NA, N)\n",
        "  R[1] <- rbinom(1, 1, .5)\n",
        "  if(R[1] == 1) R[2:N] <- rbinom(N - 1, 1, .25)\n",
        "  if(R[1] == 0) R[2:N] <- rbinom(N - 1, 1, .50)\n",
        "  return(R)\n",
        "}\n",
        "\n",
        "# This is a weird sampling design. if the first unit is selected, every other\n",
        "# unit has a 25% chance of being selected. if the first unit is not selected,\n",
        "# every other unit has a 50% chance of being selected.\n",
        "\n",
        "# The probability of unit 1 being selected is 0.5. the probability of every\n",
        "# other unit is therefore .375. This vector of probabilities is formalized \n",
        "# below.\n",
        "\n",
        "pis <- c(.5,rep(.375, N - 1))\n",
        "\n",
        "### show unbiasedness\n",
        "\n",
        "niter <- 50000\n",
        "\n",
        "htests <- rep(NA, niter)\n",
        "\n",
        "hajektests <- rep(NA, niter)\n",
        "\n",
        "for (iter in 1:niter) {\n",
        "  R <- drawsample()\n",
        "  yR <- y*R\n",
        "  htests[iter] <- sum(yR/pis)/N\n",
        "  hajektests[iter] <- sum(yR/pis)/sum(R/pis)\n",
        "}\n",
        "\n",
        "# ORIGINAL MEAN (mu):\n",
        "mean(y) \n",
        "\n",
        "# MEAN OF THE SIMULATED HT ESTIMATES:\n",
        "mean(htests) \n",
        "\n",
        "# BIAS CALCULATION FOR THE HT ESTIMATES:\n",
        "mean(y) - mean(htests) \n",
        "\n",
        "# MEAN OF THE SIMULATED HAJEK ESTIMATES:\n",
        "mean(hajektests, na.rm = TRUE)\n",
        "\n",
        "# BIAS CALCULATION FOR THE HAJEK ESTIMATES:\n",
        "mean(y) - mean(hajektests, na.rm = TRUE) \n"
      ]
    },
    {
      "cell_type": "code",
      "source": [
        "# ------------------------------ Exercise 2 ------------------------------------\n",
        "# For this second exercise, you will once again be calculating Horvitz-Thompson\n",
        "# and Hajek estimates, checking the biases. However, you will create your own data-generating\n",
        "# process. So, you can create your own `N`, `y` `drawsample()`, or `pis`. You\n",
        "# can base it on data-generating process that Prof. Aronow created above, but\n",
        "# you should make at least one modification.\n",
        "\n",
        "## EXAMPLE: Same N and y vector, complete randomization ------------------------\n",
        "\n",
        "N <- 5\n",
        "y <- c(4, 3, 2, 1, 4)\n",
        "n_treat <- 3\n",
        "\n",
        "drawsample2 <- function(n_treat){ # here is a function argument for \n",
        "                                            # setting the  size of the treatment \n",
        "                                            # group\n",
        "  D <- c(rep(1, n_treat), rep(0, N - n_treat))\n",
        "  R <- sample(D)\n",
        "  return(R)\n",
        "}\n",
        "\n",
        "pis2 <- rep(n_treat/N, N)\n",
        "\n",
        "htests2 <- rep(NA, niter)\n",
        "\n",
        "hajektests2 <- rep(NA, niter)\n",
        "\n",
        "for (iter in 1:niter) {\n",
        "  R <- drawsample2(n_treat)\n",
        "  yR <- y*R\n",
        "  htests2[iter] <- sum(yR/pis2)/N\n",
        "  hajektests2[iter] <- sum(yR/pis2)/sum(R/pis2)\n",
        "}\n",
        "\n",
        "# MEAN OF THE SIMULATED HT ESTIMATES:\n",
        "mean(htests2) \n",
        "\n",
        "# BIAS CALCULATION FOR THE HT ESTIMATES:\n",
        "mean(y) - mean(htests2) \n",
        "\n",
        "# MEAN OF THE SIMULATED HAJEK ESTIMATES:\n",
        "mean(hajektests2)\n",
        "\n",
        "# BIAS CALCULATION FOR THE HAJEK ESTIMATES:\n",
        "mean(y) - mean(hajektests2) \n",
        "\n",
        "## EXAMPLE: Same N and y vector, Bernoulli trials with condition ---------------\n",
        "\n",
        "N <- 5\n",
        "y <- c(4, 3, 2, 1, 4)\n",
        "\n",
        "# This function performs  a Bernoulli trial to create treatment assignment. It\n",
        "# has a condition that if all the treatment assigns are \"in control\" (that is,\n",
        "# zero), it will perform a sequence of Bernoulli trials again until it gets a\n",
        "# set of randomizations with at least one unit in treatment (at least one \n",
        "# randomization equal to one)\n",
        "drawsample3 <- function(){ \n",
        "  repeat{\n",
        "    R <- rbinom(5, 1, 0.5)\n",
        "    if (sum(R) > 0){\n",
        "      return(R)\n",
        "    }\n",
        "  }\n",
        "}\n",
        "\n",
        "pis3 <- rep(16/31, 5)\n",
        "\n",
        "htests3 <- rep(NA, niter)\n",
        "\n",
        "hajektests3 <- rep(NA, niter)\n",
        "\n",
        "for (iter in 1:niter) {\n",
        "  R <- drawsample3()\n",
        "  yR <- y*R\n",
        "  htests3[iter] <- sum(yR/pis3)/N\n",
        "  hajektests3[iter] <- sum(yR/pis3)/sum(R/pis3)\n",
        "}\n",
        "\n",
        "# MEAN OF THE SIMULATED HT ESTIMATES:\n",
        "mean(htests3) \n",
        "\n",
        "# BIAS CALCULATION FOR THE HT ESTIMATES:\n",
        "mean(y) - mean(htests3) \n",
        "\n",
        "# MEAN OF THE SIMULATED HAJEK ESTIMATES:\n",
        "mean(hajektests3)\n",
        "\n",
        "# BIAS CALCULATION FOR THE HAJEK ESTIMATES:\n",
        "mean(y) - mean(hajektests3) \n",
        "\n",
        "\n"
      ],
      "metadata": {
        "colab": {
          "base_uri": "https://localhost:8080/",
          "height": 156
        },
        "id": "J-aVMBnGFaRv",
        "outputId": "d49c69f3-5354-4687-c05f-52d45b188f09"
      },
      "execution_count": 3,
      "outputs": [
        {
          "output_type": "display_data",
          "data": {
            "text/html": [
              "2.79814"
            ],
            "text/markdown": "2.79814",
            "text/latex": "2.79814",
            "text/plain": [
              "[1] 2.79814"
            ]
          },
          "metadata": {}
        },
        {
          "output_type": "display_data",
          "data": {
            "text/html": [
              "0.00185999999999975"
            ],
            "text/markdown": "0.00185999999999975",
            "text/latex": "0.00185999999999975",
            "text/plain": [
              "[1] 0.00186"
            ]
          },
          "metadata": {}
        },
        {
          "output_type": "display_data",
          "data": {
            "text/html": [
              "2.79814"
            ],
            "text/markdown": "2.79814",
            "text/latex": "2.79814",
            "text/plain": [
              "[1] 2.79814"
            ]
          },
          "metadata": {}
        },
        {
          "output_type": "display_data",
          "data": {
            "text/html": [
              "0.00185999999999975"
            ],
            "text/markdown": "0.00185999999999975",
            "text/latex": "0.00185999999999975",
            "text/plain": [
              "[1] 0.00186"
            ]
          },
          "metadata": {}
        },
        {
          "output_type": "display_data",
          "data": {
            "text/html": [
              "2.79892025"
            ],
            "text/markdown": "2.79892025",
            "text/latex": "2.79892025",
            "text/plain": [
              "[1] 2.79892"
            ]
          },
          "metadata": {}
        },
        {
          "output_type": "display_data",
          "data": {
            "text/html": [
              "0.00107974999999971"
            ],
            "text/markdown": "0.00107974999999971",
            "text/latex": "0.00107974999999971",
            "text/plain": [
              "[1] 0.00107975"
            ]
          },
          "metadata": {}
        },
        {
          "output_type": "display_data",
          "data": {
            "text/html": [
              "2.796843"
            ],
            "text/markdown": "2.796843",
            "text/latex": "2.796843",
            "text/plain": [
              "[1] 2.796843"
            ]
          },
          "metadata": {}
        },
        {
          "output_type": "display_data",
          "data": {
            "text/html": [
              "0.00315699999999985"
            ],
            "text/markdown": "0.00315699999999985",
            "text/latex": "0.00315699999999985",
            "text/plain": [
              "[1] 0.003157"
            ]
          },
          "metadata": {}
        }
      ]
    }
  ]
}
